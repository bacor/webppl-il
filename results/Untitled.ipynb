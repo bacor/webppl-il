{
 "cells": [
  {
   "cell_type": "code",
   "execution_count": 1,
   "metadata": {
    "collapsed": false
   },
   "outputs": [
    {
     "name": "stdout",
     "output_type": "stream",
     "text": [
      "Populating the interactive namespace from numpy and matplotlib\n"
     ]
    }
   ],
   "source": [
    "%pylab inline\n",
    "import json\n",
    "from collections import Counter"
   ]
  },
  {
   "cell_type": "markdown",
   "metadata": {},
   "source": [
    "# Runtime analysis"
   ]
  },
  {
   "cell_type": "code",
   "execution_count": 62,
   "metadata": {
    "collapsed": false
   },
   "outputs": [],
   "source": [
    "runtimes = []\n",
    "for n in range(10,220,10) + [1000]:\n",
    "    result = json.load(open('exp01-'+str(n)+'.json', 'r'))\n",
    "    runtimes.append(result['runtimeInMilliseconds'])\n",
    "runtimes = array(runtimes)"
   ]
  },
  {
   "cell_type": "code",
   "execution_count": 70,
   "metadata": {
    "collapsed": false
   },
   "outputs": [
    {
     "data": {
      "text/plain": [
       "[<matplotlib.lines.Line2D at 0x110664890>]"
      ]
     },
     "execution_count": 70,
     "metadata": {},
     "output_type": "execute_result"
    },
    {
     "data": {
      "image/png": "[encoded data removed]",
      "text/plain": [
       "<matplotlib.figure.Figure at 0x1106991d0>"
      ]
     },
     "metadata": {},
     "output_type": "display_data"
    }
   ],
   "source": [
    "first = [0,10,15,20,21]\n",
    "plot(range(10,220,10) + [1000], runtimes/1000, 'o-')\n",
    "plot(runtimes[first]/1000, 'ro-')"
   ]
  },
  {
   "cell_type": "markdown",
   "metadata": {},
   "source": [
    "# Convergence"
   ]
  },
  {
   "cell_type": "code",
   "execution_count": 7,
   "metadata": {
    "collapsed": false
   },
   "outputs": [],
   "source": [
    "result = json.load(open('exp01-5000.json', 'r'))\n",
    "result['compLangs'] = map(lambda x: \" \".join(x), result['compLangs'])"
   ]
  },
  {
   "cell_type": "code",
   "execution_count": 8,
   "metadata": {
    "collapsed": true
   },
   "outputs": [],
   "source": [
    "def groupedCounts(data, groups):\n",
    "    all_counts = Counter(data)\n",
    "    counts = map(lambda x: all_counts[x], groups)\n",
    "    counts.append(len(data) - sum(counts))\n",
    "    return array(counts)"
   ]
  },
  {
   "cell_type": "code",
   "execution_count": 9,
   "metadata": {
    "collapsed": false
   },
   "outputs": [],
   "source": [
    "data = [s for r in result['value'] for s in r][:100]\n",
    "\n",
    "relFreqs = []\n",
    "for N in range(1,len(data)):\n",
    "    counts = groupedCounts(data[:N], result['compLangs'])\n",
    "    relFreqs.append(counts / (sum(counts) + 0.0))\n"
   ]
  },
  {
   "cell_type": "markdown",
   "metadata": {
    "collapsed": true
   },
   "source": [
    "# Convergence: eigenvalues"
   ]
  },
  {
   "cell_type": "code",
   "execution_count": 114,
   "metadata": {
    "collapsed": true
   },
   "outputs": [],
   "source": [
    "def get2ndEigenValue(fn):\n",
    "    result = json.load(open(fn, 'r'))\n",
    "    data = [s for r in result['value'] for s in r]\n",
    "    id2lang = dict(enumerate(unique(data)))\n",
    "    lang2id = dict([(v, k) for k,v in id2lang.items()])\n",
    "    lang2id\n",
    "    transitionCounts = zeros((len(id2lang), len(id2lang)))\n",
    "    for h1, h2 in zip(data[:-1], data[1:]):\n",
    "        transitionCounts[lang2id[h1], lang2id[h2]] += 1\n",
    "\n",
    "    T = np.array(transitionCounts+0.0)\n",
    "    T = T / T.sum(axis=1)[:, np.newaxis]\n",
    "\n",
    "    # Second eigenvalue\n",
    "    lambs = np.linalg.eig(T)[0]\n",
    "    return sorted(lambs)[-2]"
   ]
  },
  {
   "cell_type": "code",
   "execution_count": 115,
   "metadata": {
    "collapsed": false
   },
   "outputs": [
    {
     "data": {
      "text/plain": [
       "[<matplotlib.lines.Line2D at 0x11109bb50>]"
      ]
     },
     "execution_count": 115,
     "metadata": {},
     "output_type": "execute_result"
    },
    {
     "data": {
      "image/png": "[encoded data removed]",
      "text/plain": [
       "<matplotlib.figure.Figure at 0x11099fd50>"
      ]
     },
     "metadata": {},
     "output_type": "display_data"
    }
   ],
   "source": [
    "# b = 1, alpha = 0.5, eps = 0.05\n",
    "b1 = get2ndEigenValue('exp01-5000.json')\n",
    "\n",
    "# b = 3, alpha = 0.5, eps = 0.05\n",
    "b3 = get2ndEigenValue('exp02-5000.json')\n",
    "\n",
    "# b = 10, alpha = 0.5, eps = 0.05\n",
    "b10 = get2ndEigenValue('exp03-5000.json')\n",
    "\n",
    "plot([1,3,10], [b1,b3,b10],'o-')"
   ]
  },
  {
   "cell_type": "code",
   "execution_count": 102,
   "metadata": {
    "collapsed": false
   },
   "outputs": [
    {
     "data": {
      "text/plain": [
       "(0.54944554241064847+0j)"
      ]
     },
     "execution_count": 102,
     "metadata": {},
     "output_type": "execute_result"
    }
   ],
   "source": []
  },
  {
   "cell_type": "code",
   "execution_count": 103,
   "metadata": {
    "collapsed": false
   },
   "outputs": [
    {
     "data": {
      "text/plain": [
       "(0.97830462595381396+0j)"
      ]
     },
     "execution_count": 103,
     "metadata": {},
     "output_type": "execute_result"
    }
   ],
   "source": [
    "# b = 10\n",
    "get2ndEigenValue('exp03-5000.json')"
   ]
  },
  {
   "cell_type": "code",
   "execution_count": null,
   "metadata": {
    "collapsed": true
   },
   "outputs": [],
   "source": []
  },
  {
   "cell_type": "code",
   "execution_count": 93,
   "metadata": {
    "collapsed": false
   },
   "outputs": [],
   "source": [
    "result = json.load(open('exp03-5000.json', 'r'))\n",
    "data = [s for r in result['value'] for s in r]\n",
    "id2lang = dict(enumerate(unique(data)))\n",
    "lang2id = dict([(v, k) for k,v in id2lang.items()])\n",
    "lang2id\n",
    "transitionCounts = zeros((len(id2lang), len(id2lang)))\n",
    "for h1, h2 in zip(data[:-1], data[1:]):\n",
    "    transitionCounts[lang2id[h1], lang2id[h2]] += 1\n",
    "\n",
    "T = np.array(transitionCounts+0.0)\n",
    "T = T / T.sum(axis=1)[:, np.newaxis]\n",
    "\n",
    "# Second eigenvalue\n",
    "lambs =np.linalg.eig(T)[0]"
   ]
  },
  {
   "cell_type": "code",
   "execution_count": 96,
   "metadata": {
    "collapsed": false
   },
   "outputs": [
    {
     "data": {
      "text/plain": [
       "[(1.0000000000000078+0j),\n",
       " (0.97830462595381396+0j),\n",
       " (0.97272314603275656+0j),\n",
       " (0.96719524957433567+0j),\n",
       " (0.92303389651067358+0j),\n",
       " (0.83276298089407186+0j),\n",
       " (0.82769248054627709+0j),\n",
       " (0.82189983776027153+0.012305445715774905j),\n",
       " (0.82189983776027153-0.012305445715774905j),\n",
       " (0.81514801125164693+0j),\n",
       " (0.79291486074504158+0j),\n",
       " (0.78189407870071537+0.024166479030274697j),\n",
       " (0.78189407870071537-0.024166479030274697j),\n",
       " (0.7795041121305808+0.062581063466035272j),\n",
       " (0.7795041121305808-0.062581063466035272j),\n",
       " (0.76844216094242501+0.03441733266594553j),\n",
       " (0.76844216094242501-0.03441733266594553j),\n",
       " (0.75973389938710922+0.0071738530337828134j),\n",
       " (0.75973389938710922-0.0071738530337828134j),\n",
       " (0.74624602090571102+0.073543881839092565j),\n",
       " (0.74624602090571102-0.073543881839092565j),\n",
       " (0.72717028831293129+0.056696229781999889j),\n",
       " (0.72717028831293129-0.056696229781999889j),\n",
       " (0.72577296847125206+0.029058281469685115j),\n",
       " (0.72577296847125206-0.029058281469685115j),\n",
       " (0.70721690173573915+0.070597893555635505j),\n",
       " (0.70721690173573915-0.070597893555635505j),\n",
       " (0.70257473392481828+0.033405775182753929j),\n",
       " (0.70257473392481828-0.033405775182753929j),\n",
       " (0.69477196069817748+0.0073182330121446598j),\n",
       " (0.69477196069817748-0.0073182330121446598j),\n",
       " (0.69437104167396879+0.11770722948619998j),\n",
       " (0.69437104167396879-0.11770722948619998j),\n",
       " (0.69263231887947374+0j),\n",
       " (0.68530287125617295+0.080788709460227398j),\n",
       " (0.68530287125617295-0.080788709460227398j),\n",
       " (0.68255757709251308+0.04248158960534941j),\n",
       " (0.68255757709251308-0.04248158960534941j),\n",
       " (0.67609463511975765+0j),\n",
       " (0.6719920768499309+0.01297074882302025j),\n",
       " (0.6719920768499309-0.01297074882302025j),\n",
       " (0.65611529251174794+0.10549270122096806j),\n",
       " (0.65611529251174794-0.10549270122096806j),\n",
       " (0.6546185223321086+0.056575528268447833j),\n",
       " (0.6546185223321086-0.056575528268447833j),\n",
       " (0.65299394604739724+0.028444052209606233j),\n",
       " (0.65299394604739724-0.028444052209606233j),\n",
       " (0.64216838375870067+0j),\n",
       " (0.63311922086639627+0.050616063293792868j),\n",
       " (0.63311922086639627-0.050616063293792868j),\n",
       " (0.63120778921697851+0.099297988783490637j),\n",
       " (0.63120778921697851-0.099297988783490637j),\n",
       " (0.62881304737422217+0.14932883061212215j),\n",
       " (0.62881304737422217-0.14932883061212215j),\n",
       " (0.62099037093719522+0.02372855928015247j),\n",
       " (0.62099037093719522-0.02372855928015247j),\n",
       " (0.61409355265153276+0.00489302037048498j),\n",
       " (0.61409355265153276-0.00489302037048498j),\n",
       " (0.61353775961128565+0.034250496008410992j),\n",
       " (0.61353775961128565-0.034250496008410992j),\n",
       " (0.61135977661397911+0.13917045548392412j),\n",
       " (0.61135977661397911-0.13917045548392412j),\n",
       " (0.58282053491367236+0.10963345427653257j),\n",
       " (0.58282053491367236-0.10963345427653257j),\n",
       " (0.57743892213078118+0.13962025858581789j),\n",
       " (0.57743892213078118-0.13962025858581789j),\n",
       " (0.57648869674839687+0.092105853035061899j),\n",
       " (0.57648869674839687-0.092105853035061899j),\n",
       " (0.5731432690055267+0j),\n",
       " (0.56644488750132094+0.050656677887728152j),\n",
       " (0.56644488750132094-0.050656677887728152j),\n",
       " (0.56504003308836259+0.02074907964613561j),\n",
       " (0.56504003308836259-0.02074907964613561j),\n",
       " (0.55931847408515023+0.14135458643090901j),\n",
       " (0.55931847408515023-0.14135458643090901j),\n",
       " (0.549534470273636+0.094384840595714878j),\n",
       " (0.549534470273636-0.094384840595714878j),\n",
       " (0.54619465616385865+0.012309031115725753j),\n",
       " (0.54619465616385865-0.012309031115725753j),\n",
       " (0.54570066928921934+0.045950254424036011j),\n",
       " (0.54570066928921934-0.045950254424036011j),\n",
       " (0.54240912692374943+0.069240883716949267j),\n",
       " (0.54240912692374943-0.069240883716949267j),\n",
       " (0.53920544121959391+0.016979699055619031j),\n",
       " (0.53920544121959391-0.016979699055619031j),\n",
       " (0.5307323374995323+0j),\n",
       " (0.51055071222459159+0.11965603645302417j),\n",
       " (0.51055071222459159-0.11965603645302417j),\n",
       " (0.50810525925821359+0.13783503493392482j),\n",
       " (0.50810525925821359-0.13783503493392482j),\n",
       " (0.50760750118705888+0.16530606187156005j),\n",
       " (0.50760750118705888-0.16530606187156005j),\n",
       " (0.50227264450190201+0j),\n",
       " (0.5005984904608396+0.065619325122774699j),\n",
       " (0.5005984904608396-0.065619325122774699j),\n",
       " (0.49328372768999923+0j),\n",
       " (0.49140665315160337+0.09680850883011817j),\n",
       " (0.49140665315160337-0.09680850883011817j),\n",
       " (0.48354162244855625+0.0082956368459658151j),\n",
       " (0.48354162244855625-0.0082956368459658151j),\n",
       " (0.47763729200739014+0.050059141582334397j),\n",
       " (0.47763729200739014-0.050059141582334397j),\n",
       " (0.46990592568377865+0.053211403210458592j),\n",
       " (0.46990592568377865-0.053211403210458592j),\n",
       " (0.46758192629050777+0.15399862734914627j),\n",
       " (0.46758192629050777-0.15399862734914627j),\n",
       " (0.45693226984487179+0.032546593258855797j),\n",
       " (0.45693226984487179-0.032546593258855797j),\n",
       " (0.45497281261135414+0.1909203149552739j),\n",
       " (0.45497281261135414-0.1909203149552739j),\n",
       " (0.43282073135338195+0.043807584020132739j),\n",
       " (0.43282073135338195-0.043807584020132739j),\n",
       " (0.43047305866754992+0.011665338563744543j),\n",
       " (0.43047305866754992-0.011665338563744543j),\n",
       " (0.42980382508651571+0.09961519242459628j),\n",
       " (0.42980382508651571-0.09961519242459628j),\n",
       " (0.42712030508779841+0.13561030105411426j),\n",
       " (0.42712030508779841-0.13561030105411426j),\n",
       " (0.4197962974639442+0j),\n",
       " (0.41368540699437706+0.2087703141438087j),\n",
       " (0.41368540699437706-0.2087703141438087j),\n",
       " (0.40121112132596531+0.16656898737143272j),\n",
       " (0.40121112132596531-0.16656898737143272j),\n",
       " (0.38752113191132581+0j),\n",
       " (0.38249521059698399+0.11348316693454594j),\n",
       " (0.38249521059698399-0.11348316693454594j),\n",
       " (0.37747914472460903+0.047595229146123054j),\n",
       " (0.37747914472460903-0.047595229146123054j),\n",
       " (0.37673256784635534+0.10150801909325637j),\n",
       " (0.37673256784635534-0.10150801909325637j),\n",
       " (0.36390577001882396+0.020165628274211197j),\n",
       " (0.36390577001882396-0.020165628274211197j),\n",
       " (0.3550271196101944+0.15008251721695459j),\n",
       " (0.3550271196101944-0.15008251721695459j),\n",
       " (0.35023988508675263+0.21804162814743253j),\n",
       " (0.35023988508675263-0.21804162814743253j),\n",
       " (0.3463583311444064+0.0051800120631384314j),\n",
       " (0.3463583311444064-0.0051800120631384314j),\n",
       " (0.34550240452345832+0.1820957966380877j),\n",
       " (0.34550240452345832-0.1820957966380877j),\n",
       " (0.34248518444057641+0.12411365777769817j),\n",
       " (0.34248518444057641-0.12411365777769817j),\n",
       " (0.34117291548997952+0.023260401601207816j),\n",
       " (0.34117291548997952-0.023260401601207816j),\n",
       " (0.33216120456239084+0.059840176019351883j),\n",
       " (0.33216120456239084-0.059840176019351883j),\n",
       " (0.32914373800813873+0.17538444616389129j),\n",
       " (0.32914373800813873-0.17538444616389129j),\n",
       " (0.32041908879377395+0.054941284739410436j),\n",
       " (0.32041908879377395-0.054941284739410436j),\n",
       " (0.30186788971698947+0.080786479142276241j),\n",
       " (0.30186788971698947-0.080786479142276241j),\n",
       " (0.2865875791209922+0.015736685085849567j),\n",
       " (0.2865875791209922-0.015736685085849567j),\n",
       " (0.28611078357112896+0.16792664664721701j),\n",
       " (0.28611078357112896-0.16792664664721701j),\n",
       " (0.28145824948699116+0.059814083024220109j),\n",
       " (0.28145824948699116-0.059814083024220109j),\n",
       " (0.27629757633108676+0.097425326777950821j),\n",
       " (0.27629757633108676-0.097425326777950821j),\n",
       " (0.27205800877819686+0j),\n",
       " (0.26761890086402662+0.24163041641307367j),\n",
       " (0.26761890086402662-0.24163041641307367j),\n",
       " (0.24746580705532059+0.18463747004182812j),\n",
       " (0.24746580705532059-0.18463747004182812j),\n",
       " (0.23533207048258706+0j),\n",
       " (0.23232999364249329+0.099837523422508553j),\n",
       " (0.23232999364249329-0.099837523422508553j),\n",
       " (0.21414909414642197+0j),\n",
       " (0.20691707440056017+0.14332632239858584j),\n",
       " (0.20691707440056017-0.14332632239858584j),\n",
       " (0.19905072556863651+0.048157599622618043j),\n",
       " (0.19905072556863651-0.048157599622618043j),\n",
       " (0.19867216810534613+0.055684548177132483j),\n",
       " (0.19867216810534613-0.055684548177132483j),\n",
       " (0.18794520611796017+0j),\n",
       " (0.18304558226543008+0.098690963656068165j),\n",
       " (0.18304558226543008-0.098690963656068165j),\n",
       " (0.16153787963495242+0.070731145674776161j),\n",
       " (0.16153787963495242-0.070731145674776161j),\n",
       " (0.16012984022786619+0.1981242739769947j),\n",
       " (0.16012984022786619-0.1981242739769947j),\n",
       " (0.15906731496645304+0.16022063214019791j),\n",
       " (0.15906731496645304-0.16022063214019791j),\n",
       " (0.15139677240663116+0j),\n",
       " (0.1429593112619916+0j),\n",
       " (0.12327775399383253+0.062713906165017708j),\n",
       " (0.12327775399383253-0.062713906165017708j),\n",
       " (0.11807273258927169+0j),\n",
       " (0.11017222496651803+0.12078234116856314j),\n",
       " (0.11017222496651803-0.12078234116856314j),\n",
       " (0.09954092981181431+0.16851077981834334j),\n",
       " (0.09954092981181431-0.16851077981834334j),\n",
       " (0.086490665804276404+0j),\n",
       " (0.079104821450981327+0.10218541803468198j),\n",
       " (0.079104821450981327-0.10218541803468198j),\n",
       " (0.073978266947460875+0.23438848816901789j),\n",
       " (0.073978266947460875-0.23438848816901789j),\n",
       " (0.053346505110653614+0.10101702591721133j),\n",
       " (0.053346505110653614-0.10101702591721133j),\n",
       " (0.033553520902144432+0.14571317409133774j),\n",
       " (0.033553520902144432-0.14571317409133774j),\n",
       " (0.032481043974226347+0j),\n",
       " (0.032346118645531621+0.04070419559935376j),\n",
       " (0.032346118645531621-0.04070419559935376j),\n",
       " (0.026758144471924174+0.11055329694676712j),\n",
       " (0.026758144471924174-0.11055329694676712j),\n",
       " (0.010923334903078258+0.011579129965554208j),\n",
       " (0.010923334903078258-0.011579129965554208j),\n",
       " (0.0091484023837996274+0.068672941260871673j),\n",
       " (0.0091484023837996274-0.068672941260871673j),\n",
       " (6.0467184247572979e-16+0j),\n",
       " (-3.0571932737029932e-16+0j),\n",
       " (-0.00060970692945652022+0.16743052830527211j),\n",
       " (-0.00060970692945652022-0.16743052830527211j),\n",
       " (-0.0018738515903592842+0j),\n",
       " (-0.0067418794873535109+0j),\n",
       " (-0.010240692493746012+0.0057713857574358237j),\n",
       " (-0.010240692493746012-0.0057713857574358237j),\n",
       " (-0.026937456648112579+0.037695003278906604j),\n",
       " (-0.026937456648112579-0.037695003278906604j),\n",
       " (-0.027628497972138809+0.10433528998472529j),\n",
       " (-0.027628497972138809-0.10433528998472529j),\n",
       " (-0.03854882863078582+0.0077079524417913124j),\n",
       " (-0.03854882863078582-0.0077079524417913124j),\n",
       " (-0.044324757075015618+0.19139487844708467j),\n",
       " (-0.044324757075015618-0.19139487844708467j),\n",
       " (-0.061167071645786997+0.016703433457992554j),\n",
       " (-0.061167071645786997-0.016703433457992554j),\n",
       " (-0.072227682549793504+0.065247332989110104j),\n",
       " (-0.072227682549793504-0.065247332989110104j),\n",
       " (-0.080390694092190407+0.09923809010456569j),\n",
       " (-0.080390694092190407-0.09923809010456569j),\n",
       " (-0.10268665321485332+0.037739748002668258j),\n",
       " (-0.10268665321485332-0.037739748002668258j),\n",
       " (-0.11778549376554656+0.097135164932922416j),\n",
       " (-0.11778549376554656-0.097135164932922416j),\n",
       " (-0.14505124418461812+0.034485337850837905j),\n",
       " (-0.14505124418461812-0.034485337850837905j),\n",
       " (-0.14985586907051895+0.0079899886026933657j),\n",
       " (-0.14985586907051895-0.0079899886026933657j),\n",
       " (-0.16720957444213086+0.11347035647860382j),\n",
       " (-0.16720957444213086-0.11347035647860382j),\n",
       " (-0.1781130219050856+0.025340495967424711j),\n",
       " (-0.1781130219050856-0.025340495967424711j),\n",
       " (-0.17922325490027727+0j),\n",
       " (-0.23441311231701328+0.022381288152399866j),\n",
       " (-0.23441311231701328-0.022381288152399866j),\n",
       " (-0.49803712060406297+0j),\n",
       " (-0.50045941931847937+0j)]"
      ]
     },
     "execution_count": 96,
     "metadata": {},
     "output_type": "execute_result"
    }
   ],
   "source": [
    "sorted(lambs)[::-1]"
   ]
  },
  {
   "cell_type": "code",
   "execution_count": 83,
   "metadata": {
    "collapsed": false
   },
   "outputs": [
    {
     "data": {
      "text/plain": [
       "0.48619370841507986"
      ]
     },
     "execution_count": 83,
     "metadata": {},
     "output_type": "execute_result"
    }
   ],
   "source": [
    "sorted(map(abs, lambs))[::-1][1]"
   ]
  },
  {
   "cell_type": "code",
   "execution_count": 88,
   "metadata": {
    "collapsed": false
   },
   "outputs": [
    {
     "data": {
      "text/plain": [
       "array([  1.00000000e+00+0.j        ,   4.86193708e-01+0.j        ,\n",
       "         4.50324331e-01+0.j        ,   3.40291344e-01+0.j        ,\n",
       "         2.52408947e-01+0.06472434j,   2.52408947e-01-0.06472434j,\n",
       "         2.35719745e-01+0.09904922j,   2.35719745e-01-0.09904922j,\n",
       "         2.52060150e-01+0.00581112j,   2.52060150e-01-0.00581112j,\n",
       "         1.90983209e-01+0.13533944j,   1.90983209e-01-0.13533944j,\n",
       "         1.65949022e-01+0.15107871j,   1.65949022e-01-0.15107871j,\n",
       "        -8.57089321e-02+0.21893765j,  -8.57089321e-02-0.21893765j,\n",
       "         1.64847525e-02+0.23289004j,   1.64847525e-02-0.23289004j,\n",
       "         7.40254959e-02+0.2168588j ,   7.40254959e-02-0.2168588j ,\n",
       "         9.64866366e-04+0.23086414j,   9.64866366e-04-0.23086414j,\n",
       "        -1.28859129e-01+0.18711997j,  -1.28859129e-01-0.18711997j,\n",
       "        -2.08025290e-01+0.09641766j,  -2.08025290e-01-0.09641766j,\n",
       "        -2.16685115e-01+0.07317515j,  -2.16685115e-01-0.07317515j,\n",
       "        -5.46090402e-02+0.22035749j,  -5.46090402e-02-0.22035749j,\n",
       "        -1.60718136e-01+0.15142623j,  -1.60718136e-01-0.15142623j,\n",
       "         1.26400735e-01+0.18280245j,   1.26400735e-01-0.18280245j,\n",
       "         2.24307741e-01+0.03991273j,   2.24307741e-01-0.03991273j,\n",
       "         2.01283684e-01+0.09998558j,   2.01283684e-01-0.09998558j,\n",
       "        -2.21704146e-01+0.02349819j,  -2.21704146e-01-0.02349819j,\n",
       "        -1.94356546e-01+0.10689529j,  -1.94356546e-01-0.10689529j,\n",
       "         2.12388948e-01+0.06588137j,   2.12388948e-01-0.06588137j,\n",
       "        -2.20280664e-01+0.00789982j,  -2.20280664e-01-0.00789982j,\n",
       "        -7.05183350e-02+0.20576059j,  -7.05183350e-02-0.20576059j,\n",
       "         2.19717016e-01+0.j        ,   1.44452471e-01+0.15665489j,\n",
       "         1.44452471e-01-0.15665489j,  -2.02342755e-01+0.06968298j,\n",
       "        -2.02342755e-01-0.06968298j,  -2.07657401e-01+0.j        ,\n",
       "        -1.34911711e-01+0.15759603j,  -1.34911711e-01-0.15759603j,\n",
       "        -9.52348475e-02+0.18997865j,  -9.52348475e-02-0.18997865j,\n",
       "         1.56782178e-01+0.13746231j,   1.56782178e-01-0.13746231j,\n",
       "         6.20583944e-02+0.20202682j,   6.20583944e-02-0.20202682j,\n",
       "         3.18122926e-02+0.20981507j,   3.18122926e-02-0.20981507j,\n",
       "         2.12396057e-01+0.02792606j,   2.12396057e-01-0.02792606j,\n",
       "        -2.02445829e-01+0.04496765j,  -2.02445829e-01-0.04496765j,\n",
       "        -1.51136309e-01+0.14029305j,  -1.51136309e-01-0.14029305j,\n",
       "        -3.04997632e-02+0.20767643j,  -3.04997632e-02-0.20767643j,\n",
       "         1.12179494e-01+0.17381198j,   1.12179494e-01-0.17381198j,\n",
       "        -1.74071822e-01+0.10857889j,  -1.74071822e-01-0.10857889j,\n",
       "         1.81606603e-01+0.09333206j,   1.81606603e-01-0.09333206j,\n",
       "         1.05065401e-01+0.17221482j,   1.05065401e-01-0.17221482j,\n",
       "         7.41782757e-03+0.20353691j,   7.41782757e-03-0.20353691j,\n",
       "         2.04331272e-01+0.j        ,  -1.12837113e-01+0.16053731j,\n",
       "        -1.12837113e-01-0.16053731j,  -1.74051584e-01+0.09492933j,\n",
       "        -1.74051584e-01-0.09492933j,   1.76896362e-01+0.08243983j,\n",
       "         1.76896362e-01-0.08243983j,   1.94105066e-01+0.j        ,\n",
       "         1.58743403e-01+0.10581307j,   1.58743403e-01-0.10581307j,\n",
       "        -7.73252710e-02+0.17755688j,  -7.73252710e-02-0.17755688j,\n",
       "        -1.68226139e-01+0.09066313j,  -1.68226139e-01-0.09066313j,\n",
       "         6.79021392e-02+0.17532327j,   6.79021392e-02-0.17532327j,\n",
       "         3.91178352e-02+0.18124097j,   3.91178352e-02-0.18124097j,\n",
       "         1.76505399e-01+0.0556563j ,   1.76505399e-01-0.0556563j ,\n",
       "         1.25480237e-01+0.12985029j,   1.25480237e-01-0.12985029j,\n",
       "         1.09034642e-01+0.14227303j,   1.09034642e-01-0.14227303j,\n",
       "        -7.95275788e-02+0.16698757j,  -7.95275788e-02-0.16698757j,\n",
       "        -1.93949493e-02+0.18379155j,  -1.93949493e-02-0.18379155j,\n",
       "        -1.81451344e-01+0.01843175j,  -1.81451344e-01-0.01843175j,\n",
       "        -1.72172204e-01+0.04490594j,  -1.72172204e-01-0.04490594j,\n",
       "        -1.01427425e-01+0.14697676j,  -1.01427425e-01-0.14697676j,\n",
       "        -1.50051223e-01+0.09169214j,  -1.50051223e-01-0.09169214j,\n",
       "        -1.59947147e-01+0.07336957j,  -1.59947147e-01-0.07336957j,\n",
       "         1.72467842e-01+0.01939341j,   1.72467842e-01-0.01939341j,\n",
       "         7.55419413e-02+0.15476053j,   7.55419413e-02-0.15476053j,\n",
       "         1.49919783e-02+0.1727457j ,   1.49919783e-02-0.1727457j ,\n",
       "        -1.19180779e-01+0.12353279j,  -1.19180779e-01-0.12353279j,\n",
       "         3.66250082e-02+0.16522882j,   3.66250082e-02-0.16522882j,\n",
       "        -4.85757928e-02+0.16216982j,  -4.85757928e-02-0.16216982j,\n",
       "        -3.75011610e-02+0.16495174j,  -3.75011610e-02-0.16495174j,\n",
       "        -1.28164879e-01+0.10557661j,  -1.28164879e-01-0.10557661j,\n",
       "        -1.53830373e-01+0.j        ,   1.23784146e-01+0.11062707j,\n",
       "         1.23784146e-01-0.11062707j,   9.38500855e-02+0.13258354j,\n",
       "         9.38500855e-02-0.13258354j,  -2.52348615e-02+0.16266573j,\n",
       "        -2.52348615e-02-0.16266573j,   1.38731625e-01+0.07477808j,\n",
       "         1.38731625e-01-0.07477808j,  -1.55177475e-01+0.02506393j,\n",
       "        -1.55177475e-01-0.02506393j,   1.52711055e-01+0.03629271j,\n",
       "         1.52711055e-01-0.03629271j,   1.43172683e-01+0.j        ,\n",
       "         1.32169355e-01+0.06696175j,   1.32169355e-01-0.06696175j,\n",
       "         1.02201069e-01+0.10475889j,   1.02201069e-01-0.10475889j,\n",
       "        -8.53925119e-02+0.1186426j ,  -8.53925119e-02-0.1186426j ,\n",
       "         1.85509254e-02+0.14434949j,   1.85509254e-02-0.14434949j,\n",
       "        -1.39288009e-01+0.02819349j,  -1.39288009e-01-0.02819349j,\n",
       "         4.71736520e-02+0.13344259j,   4.71736520e-02-0.13344259j,\n",
       "        -3.64503013e-02+0.13551942j,  -3.64503013e-02-0.13551942j,\n",
       "        -1.03251146e-01+0.08279411j,  -1.03251146e-01-0.08279411j,\n",
       "        -1.24963160e-01+0.05685038j,  -1.24963160e-01-0.05685038j,\n",
       "         7.16528779e-02+0.10943025j,   7.16528779e-02-0.10943025j,\n",
       "        -1.10674777e-01+0.06794176j,  -1.10674777e-01-0.06794176j,\n",
       "        -2.17292785e-02+0.12848209j,  -2.17292785e-02-0.12848209j,\n",
       "         1.30222280e-01+0.j        ,   5.35594562e-04+0.1290223j ,\n",
       "         5.35594562e-04-0.1290223j ,   9.70663187e-02+0.08130107j,\n",
       "         9.70663187e-02-0.08130107j,  -7.55612035e-02+0.09821513j,\n",
       "        -7.55612035e-02-0.09821513j,  -5.54190931e-02+0.11184852j,\n",
       "        -5.54190931e-02-0.11184852j,   1.01075304e-01+0.07167222j,\n",
       "         1.01075304e-01-0.07167222j,   4.75457286e-02+0.11069272j,\n",
       "         4.75457286e-02-0.11069272j,   1.16046438e-01+0.02231826j,\n",
       "         1.16046438e-01-0.02231826j,  -7.94542935e-02+0.070524j  ,\n",
       "        -7.94542935e-02-0.070524j  ,  -1.01399961e-01+0.03874827j,\n",
       "        -1.01399961e-01-0.03874827j,  -3.38094391e-02+0.10302118j,\n",
       "        -3.38094391e-02-0.10302118j,   3.27493573e-02+0.10512815j,\n",
       "         3.27493573e-02-0.10512815j,   9.80376951e-02+0.04927439j,\n",
       "         9.80376951e-02-0.04927439j,   7.27726462e-02+0.07314102j,\n",
       "         7.27726462e-02-0.07314102j,   1.01373079e-01+0.01919635j,\n",
       "         1.01373079e-01-0.01919635j,   1.68814458e-02+0.10323847j,\n",
       "         1.68814458e-02-0.10323847j,  -1.04352939e-01+0.006274j  ,\n",
       "        -1.04352939e-01-0.006274j  ,   9.25514894e-02+0.02874615j,\n",
       "         9.25514894e-02-0.02874615j,  -1.00323891e-01+0.j        ,\n",
       "         4.73868277e-02+0.07763113j,   4.73868277e-02-0.07763113j,\n",
       "        -8.68394629e-02+0.j        ,  -1.45714708e-02+0.09541543j,\n",
       "        -1.45714708e-02-0.09541543j,  -3.12524258e-02+0.08914406j,\n",
       "        -3.12524258e-02-0.08914406j,  -8.09203387e-02+0.03721258j,\n",
       "        -8.09203387e-02-0.03721258j,  -5.63125716e-02+0.05879004j,\n",
       "        -5.63125716e-02-0.05879004j,   8.00470934e-02+0.j        ,\n",
       "        -7.14113396e-02+0.03090151j,  -7.14113396e-02-0.03090151j,\n",
       "         2.54717449e-02+0.06898733j,   2.54717449e-02-0.06898733j,\n",
       "         5.36140304e-02+0.04420878j,   5.36140304e-02-0.04420878j,\n",
       "        -4.31282547e-02+0.04763923j,  -4.31282547e-02-0.04763923j,\n",
       "         3.97338740e-02+0.0457742j ,   3.97338740e-02-0.0457742j ,\n",
       "         5.08311564e-02+0.02901351j,   5.08311564e-02-0.02901351j,\n",
       "        -6.97863770e-03+0.06253386j,  -6.97863770e-03-0.06253386j,\n",
       "        -1.83963036e-02+0.0562351j ,  -1.83963036e-02-0.0562351j ,\n",
       "         5.64574234e-02+0.j        ,  -4.45590495e-02+0.02930917j,\n",
       "        -4.45590495e-02-0.02930917j,  -2.26190403e-03+0.04159048j,\n",
       "        -2.26190403e-03-0.04159048j,   4.19724014e-02+0.j        ,\n",
       "        -4.39452058e-02+0.j        ,   1.42952157e-02+0.03365306j,\n",
       "         1.42952157e-02-0.03365306j,  -3.10359242e-02+0.j        ,\n",
       "        -2.85520242e-02+0.02062857j,  -2.85520242e-02-0.02062857j,\n",
       "        -2.63559242e-02+0.j        ,   1.79767428e-02+0.0032985j ,\n",
       "         1.79767428e-02-0.0032985j ,   4.70436274e-04+0.j        ,\n",
       "         9.21756023e-03+0.00493127j,   9.21756023e-03-0.00493127j])"
      ]
     },
     "execution_count": 88,
     "metadata": {},
     "output_type": "execute_result"
    }
   ],
   "source": [
    "lambs"
   ]
  },
  {
   "cell_type": "code",
   "execution_count": 63,
   "metadata": {
    "collapsed": false
   },
   "outputs": [
    {
     "data": {
      "text/plain": [
       "(array([ 0.+1.j,  0.-1.j]),\n",
       " array([[ 0.70710678+0.j        ,  0.70710678-0.j        ],\n",
       "        [ 0.00000000-0.70710678j,  0.00000000+0.70710678j]]))"
      ]
     },
     "execution_count": 63,
     "metadata": {},
     "output_type": "execute_result"
    }
   ],
   "source": [
    "np.linalg.eig([[0,-1],[1,0]])"
   ]
  },
  {
   "cell_type": "code",
   "execution_count": null,
   "metadata": {
    "collapsed": true
   },
   "outputs": [],
   "source": []
  },
  {
   "cell_type": "code",
   "execution_count": null,
   "metadata": {
    "collapsed": true
   },
   "outputs": [],
   "source": []
  }
 ],
 "metadata": {
  "kernelspec": {
   "display_name": "Python 2",
   "language": "python",
   "name": "python2"
  },
  "language_info": {
   "codemirror_mode": {
    "name": "ipython",
    "version": 2
   },
   "file_extension": ".py",
   "mimetype": "text/x-python",
   "name": "python",
   "nbconvert_exporter": "python",
   "pygments_lexer": "ipython2",
   "version": "2.7.11"
  }
 },
 "nbformat": 4,
 "nbformat_minor": 0
}
